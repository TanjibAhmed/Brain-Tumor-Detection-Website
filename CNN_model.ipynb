{
 "cells": [
  {
   "attachments": {},
   "cell_type": "markdown",
   "metadata": {},
   "source": [
    "Importing Library"
   ]
  },
  {
   "cell_type": "code",
   "execution_count": 3,
   "metadata": {},
   "outputs": [],
   "source": [
    "import tensorflow as tf\n",
    "from keras.preprocessing.image import ImageDataGenerator\n",
    "from sklearn.model_selection import train_test_split"
   ]
  },
  {
   "attachments": {},
   "cell_type": "markdown",
   "metadata": {},
   "source": [
    "Data Preprocessing"
   ]
  },
  {
   "cell_type": "code",
   "execution_count": 4,
   "metadata": {},
   "outputs": [
    {
     "name": "stdout",
     "output_type": "stream",
     "text": [
      "Found 2400 images belonging to 2 classes.\n",
      "Found 600 images belonging to 2 classes.\n"
     ]
    }
   ],
   "source": [
    "datagen = ImageDataGenerator(\n",
    "    rescale=1/255,\n",
    "    validation_split=0.2,\n",
    "    shear_range=0.2,\n",
    "    zoom_range=0.2,\n",
    "    horizontal_flip=True)\n",
    "training_set = datagen.flow_from_directory(\n",
    "    directory='dataset',\n",
    "    subset='training',\n",
    "    target_size=(64, 64),\n",
    "    batch_size=32,\n",
    "    class_mode='binary')\n",
    "test_set = datagen.flow_from_directory(\n",
    "    directory='dataset',\n",
    "    subset='validation',\n",
    "    target_size=(64, 64),\n",
    "    batch_size=32,\n",
    "    class_mode='binary')"
   ]
  },
  {
   "attachments": {},
   "cell_type": "markdown",
   "metadata": {},
   "source": [
    "Building CNN"
   ]
  },
  {
   "attachments": {},
   "cell_type": "markdown",
   "metadata": {},
   "source": [
    "Initializing the cnn"
   ]
  },
  {
   "cell_type": "code",
   "execution_count": 5,
   "metadata": {},
   "outputs": [],
   "source": [
    "cnn = tf.keras.models.Sequential()"
   ]
  },
  {
   "attachments": {},
   "cell_type": "markdown",
   "metadata": {},
   "source": [
    "Convolution"
   ]
  },
  {
   "cell_type": "code",
   "execution_count": 6,
   "metadata": {},
   "outputs": [],
   "source": [
    "cnn.add(tf.keras.layers.Conv2D(filters=32, kernel_size=3, activation='relu',input_shape=[64,64,3]))"
   ]
  },
  {
   "attachments": {},
   "cell_type": "markdown",
   "metadata": {},
   "source": [
    "Pooling"
   ]
  },
  {
   "cell_type": "code",
   "execution_count": 7,
   "metadata": {},
   "outputs": [],
   "source": [
    "cnn.add(tf.keras.layers.MaxPool2D(pool_size=2, strides=2))"
   ]
  },
  {
   "attachments": {},
   "cell_type": "markdown",
   "metadata": {},
   "source": [
    "Second Convolution Layer"
   ]
  },
  {
   "cell_type": "code",
   "execution_count": 8,
   "metadata": {},
   "outputs": [],
   "source": [
    "cnn.add(tf.keras.layers.Conv2D(filters=32, kernel_size=3, activation='relu'))\n",
    "cnn.add(tf.keras.layers.MaxPool2D(pool_size=2, strides=2))"
   ]
  },
  {
   "attachments": {},
   "cell_type": "markdown",
   "metadata": {},
   "source": [
    "Flattening"
   ]
  },
  {
   "cell_type": "code",
   "execution_count": 9,
   "metadata": {},
   "outputs": [],
   "source": [
    "cnn.add(tf.keras.layers.Flatten())"
   ]
  },
  {
   "attachments": {},
   "cell_type": "markdown",
   "metadata": {},
   "source": [
    "Full Connection"
   ]
  },
  {
   "cell_type": "code",
   "execution_count": 10,
   "metadata": {},
   "outputs": [],
   "source": [
    "cnn.add(tf.keras.layers.Dense(units=128, activation='relu'))"
   ]
  },
  {
   "attachments": {},
   "cell_type": "markdown",
   "metadata": {},
   "source": [
    "Output Layer"
   ]
  },
  {
   "cell_type": "code",
   "execution_count": 11,
   "metadata": {},
   "outputs": [],
   "source": [
    "cnn.add(tf.keras.layers.Dense(units=1, activation='sigmoid'))"
   ]
  },
  {
   "attachments": {},
   "cell_type": "markdown",
   "metadata": {},
   "source": [
    "Training the CNN"
   ]
  },
  {
   "attachments": {},
   "cell_type": "markdown",
   "metadata": {},
   "source": [
    "Compiling the CNN"
   ]
  },
  {
   "cell_type": "code",
   "execution_count": 12,
   "metadata": {},
   "outputs": [],
   "source": [
    "cnn.compile(optimizer='adam', loss='binary_crossentropy', metrics=['accuracy'])"
   ]
  },
  {
   "attachments": {},
   "cell_type": "markdown",
   "metadata": {},
   "source": [
    "Train the training set on the training set and evaluating the test set "
   ]
  },
  {
   "cell_type": "code",
   "execution_count": 15,
   "metadata": {},
   "outputs": [
    {
     "name": "stdout",
     "output_type": "stream",
     "text": [
      "Epoch 1/25\n",
      "75/75 [==============================] - 13s 176ms/step - loss: 0.0680 - accuracy: 0.9758 - val_loss: 0.1404 - val_accuracy: 0.9467\n",
      "Epoch 2/25\n",
      "75/75 [==============================] - 13s 180ms/step - loss: 0.0586 - accuracy: 0.9796 - val_loss: 0.0683 - val_accuracy: 0.9783\n",
      "Epoch 3/25\n",
      "75/75 [==============================] - 15s 196ms/step - loss: 0.0529 - accuracy: 0.9854 - val_loss: 0.0899 - val_accuracy: 0.9733\n",
      "Epoch 4/25\n",
      "75/75 [==============================] - 16s 212ms/step - loss: 0.0564 - accuracy: 0.9800 - val_loss: 0.0714 - val_accuracy: 0.9717\n",
      "Epoch 5/25\n",
      "75/75 [==============================] - 17s 229ms/step - loss: 0.0588 - accuracy: 0.9812 - val_loss: 0.0752 - val_accuracy: 0.9717\n",
      "Epoch 6/25\n",
      "75/75 [==============================] - 15s 202ms/step - loss: 0.0435 - accuracy: 0.9854 - val_loss: 0.1115 - val_accuracy: 0.9583\n",
      "Epoch 7/25\n",
      "75/75 [==============================] - 14s 186ms/step - loss: 0.0522 - accuracy: 0.9821 - val_loss: 0.1457 - val_accuracy: 0.9567\n",
      "Epoch 8/25\n",
      "75/75 [==============================] - 14s 185ms/step - loss: 0.0421 - accuracy: 0.9850 - val_loss: 0.0680 - val_accuracy: 0.9817\n",
      "Epoch 9/25\n",
      "75/75 [==============================] - 14s 186ms/step - loss: 0.0385 - accuracy: 0.9879 - val_loss: 0.0621 - val_accuracy: 0.9783\n",
      "Epoch 10/25\n",
      "75/75 [==============================] - 14s 192ms/step - loss: 0.0351 - accuracy: 0.9858 - val_loss: 0.0831 - val_accuracy: 0.9733\n",
      "Epoch 11/25\n",
      "75/75 [==============================] - 15s 195ms/step - loss: 0.0278 - accuracy: 0.9921 - val_loss: 0.0951 - val_accuracy: 0.9633\n",
      "Epoch 12/25\n",
      "75/75 [==============================] - 15s 198ms/step - loss: 0.0225 - accuracy: 0.9925 - val_loss: 0.0392 - val_accuracy: 0.9900\n",
      "Epoch 13/25\n",
      "75/75 [==============================] - 15s 199ms/step - loss: 0.0381 - accuracy: 0.9896 - val_loss: 0.1117 - val_accuracy: 0.9717\n",
      "Epoch 14/25\n",
      "75/75 [==============================] - 15s 199ms/step - loss: 0.0410 - accuracy: 0.9850 - val_loss: 0.1071 - val_accuracy: 0.9650\n",
      "Epoch 15/25\n",
      "75/75 [==============================] - 15s 199ms/step - loss: 0.0431 - accuracy: 0.9842 - val_loss: 0.1174 - val_accuracy: 0.9617\n",
      "Epoch 16/25\n",
      "75/75 [==============================] - 15s 198ms/step - loss: 0.0337 - accuracy: 0.9883 - val_loss: 0.0717 - val_accuracy: 0.9783\n",
      "Epoch 17/25\n",
      "75/75 [==============================] - 17s 233ms/step - loss: 0.0423 - accuracy: 0.9871 - val_loss: 0.0962 - val_accuracy: 0.9633\n",
      "Epoch 18/25\n",
      "75/75 [==============================] - 18s 234ms/step - loss: 0.0321 - accuracy: 0.9892 - val_loss: 0.0469 - val_accuracy: 0.9883\n",
      "Epoch 19/25\n",
      "75/75 [==============================] - 18s 235ms/step - loss: 0.0239 - accuracy: 0.9937 - val_loss: 0.0913 - val_accuracy: 0.9783\n",
      "Epoch 20/25\n",
      "75/75 [==============================] - 18s 235ms/step - loss: 0.0286 - accuracy: 0.9867 - val_loss: 0.0570 - val_accuracy: 0.9817\n",
      "Epoch 21/25\n",
      "75/75 [==============================] - 30s 400ms/step - loss: 0.0325 - accuracy: 0.9887 - val_loss: 0.0354 - val_accuracy: 0.9867\n",
      "Epoch 22/25\n",
      "75/75 [==============================] - 34s 444ms/step - loss: 0.0292 - accuracy: 0.9900 - val_loss: 0.0611 - val_accuracy: 0.9750\n",
      "Epoch 23/25\n",
      "75/75 [==============================] - 33s 446ms/step - loss: 0.0200 - accuracy: 0.9937 - val_loss: 0.0474 - val_accuracy: 0.9833\n",
      "Epoch 24/25\n",
      "75/75 [==============================] - 32s 429ms/step - loss: 0.0156 - accuracy: 0.9950 - val_loss: 0.0882 - val_accuracy: 0.9767\n",
      "Epoch 25/25\n",
      "75/75 [==============================] - 29s 387ms/step - loss: 0.0203 - accuracy: 0.9933 - val_loss: 0.0430 - val_accuracy: 0.9900\n"
     ]
    },
    {
     "data": {
      "text/plain": [
       "<keras.callbacks.History at 0x1647d76ed00>"
      ]
     },
     "execution_count": 15,
     "metadata": {},
     "output_type": "execute_result"
    }
   ],
   "source": [
    "cnn.fit(x = training_set, validation_data= test_set, epochs=25)"
   ]
  },
  {
   "cell_type": "code",
   "execution_count": 14,
   "metadata": {},
   "outputs": [],
   "source": [
    "cnn.save('BrainTumor25Epochs.h5')"
   ]
  }
 ],
 "metadata": {
  "kernelspec": {
   "display_name": "base",
   "language": "python",
   "name": "python3"
  },
  "language_info": {
   "codemirror_mode": {
    "name": "ipython",
    "version": 3
   },
   "file_extension": ".py",
   "mimetype": "text/x-python",
   "name": "python",
   "nbconvert_exporter": "python",
   "pygments_lexer": "ipython3",
   "version": "3.9.15 (main, Nov 24 2022, 14:39:17) [MSC v.1916 64 bit (AMD64)]"
  },
  "orig_nbformat": 4,
  "vscode": {
   "interpreter": {
    "hash": "f9b10823c4faf200e86d7ce7e8437aeec1cd309aad0cf5324063310e76da78bb"
   }
  }
 },
 "nbformat": 4,
 "nbformat_minor": 2
}
